{
  "nbformat": 4,
  "nbformat_minor": 0,
  "metadata": {
    "colab": {
      "provenance": []
    },
    "kernelspec": {
      "name": "python3",
      "display_name": "Python 3"
    }
  },
  "cells": [
    {
      "cell_type": "markdown",
      "source": [
        "# Getting Started"
      ],
      "metadata": {
        "id": "ns-FEs6V-A7g"
      }
    },
    {
      "cell_type": "markdown",
      "source": [
        "## Read CSV and Import\n"
      ],
      "metadata": {
        "id": "Vx9KwUcF0LIR"
      }
    },
    {
      "cell_type": "code",
      "metadata": {
        "id": "mA0HPVmIBT4C",
        "colab": {
          "base_uri": "https://localhost:8080/"
        },
        "outputId": "5739b5f6-602c-4bf1-bb59-345418a691ee"
      },
      "source": [
        "import pandas as pd\n",
        "import seaborn as sns\n",
        "sns.set_theme(style=\"darkgrid\")\n",
        "\n",
        "campaign = pd.read_csv('https://raw.githubusercontent.com/byui-cse/cse450-course/master/data/bank.csv')\n"
      ],
      "execution_count": null,
      "outputs": [
        {
          "output_type": "stream",
          "name": "stdout",
          "text": [
            "Drive already mounted at /content/drive/; to attempt to forcibly remount, call drive.mount(\"/content/drive/\", force_remount=True).\n"
          ]
        }
      ]
    },
    {
      "cell_type": "markdown",
      "source": [
        "## Helper Functions"
      ],
      "metadata": {
        "id": "9Wh_AFB50JKU"
      }
    },
    {
      "cell_type": "code",
      "source": [
        "\n",
        "def create_X_y(df):\n",
        "  y = None\n",
        "  # map y values if they exist\n",
        "  if 'y' in df:\n",
        "    value_map = {\n",
        "      'yes': 1,\n",
        "      'no': 0\n",
        "    }\n",
        "    df['y_encoded'] = df['y'].map(value_map)\n",
        "    y = df['y_encoded'].astype(bool)\n",
        "\n",
        "\n",
        "  # data bins\n",
        "  age_bins = [0, 20, 40, 60, 80]\n",
        "  age_labels = ['young', 'middle-aged', 'old', 'very_old']\n",
        "  campaign['age_bin'] = pd.cut(campaign['age'], age_bins, labels=age_labels )\n",
        "  pdays_bins = [0, 3, 7, 998, 1000]\n",
        "  pdays_labels = ['very_recent', 'recent', 'not_recent', 'not_contacted']\n",
        "  campaign['pdays_bin'] = pd.cut(campaign['pdays'], pdays_bins, labels=pdays_labels )\n",
        "\n",
        "\n",
        "  # # scale data\n",
        "\n",
        "  # from sklearn.preprocessing import StandardScaler, MinMaxScaler\n",
        "  # features_to_be_scaled = ['emp.var.rate', 'cons.price.idx', 'cons.conf.idx', 'euribor3m', 'nr.employed']\n",
        "  # scaler = MinMaxScaler()\n",
        "\n",
        "  # Set features for X and create dummies for the ones that need it\n",
        "  X = df[['job','age_bin', 'loan', 'housing', 'day_of_week', 'pdays_bin', 'emp.var.rate', 'cons.price.idx', 'cons.conf.idx', 'euribor3m', 'nr.employed']]\n",
        "\n",
        "  X = pd.get_dummies(X, columns=['job', 'loan', 'housing', 'day_of_week', 'age_bin', 'pdays_bin'], drop_first=True)\n",
        "  # X[features_to_be_scaled] = scaler.fit_transform(X[features_to_be_scaled])\n",
        "\n",
        "\n",
        "  return X,y"
      ],
      "metadata": {
        "id": "w4fzFGn7S-Vk"
      },
      "execution_count": null,
      "outputs": []
    },
    {
      "cell_type": "markdown",
      "source": [
        "# Model Training"
      ],
      "metadata": {
        "id": "IQvklRBML_iY"
      }
    },
    {
      "cell_type": "markdown",
      "source": [
        "## Data Prep for specific model"
      ],
      "metadata": {
        "id": "r_HrJOVL_A4A"
      }
    },
    {
      "cell_type": "markdown",
      "source": [
        "Create x,y"
      ],
      "metadata": {
        "id": "y8UC_HUKolfR"
      }
    },
    {
      "cell_type": "code",
      "source": [
        "X,y = create_X_y(campaign)\n",
        "print(X.head())"
      ],
      "metadata": {
        "id": "YR7p-I5sE-8U",
        "colab": {
          "base_uri": "https://localhost:8080/",
          "height": 162
        },
        "outputId": "61e79a2e-522e-4f49-d541-3fed6be84e4f"
      },
      "execution_count": null,
      "outputs": [
        {
          "output_type": "error",
          "ename": "AttributeError",
          "evalue": "'ModuleSpec' object has no attribute 'create_X_y'",
          "traceback": [
            "\u001b[0;31m---------------------------------------------------------------------------\u001b[0m",
            "\u001b[0;31mAttributeError\u001b[0m                            Traceback (most recent call last)",
            "\u001b[0;32m<ipython-input-70-ffe6af2feb33>\u001b[0m in \u001b[0;36m<cell line: 0>\u001b[0;34m()\u001b[0m\n\u001b[0;32m----> 1\u001b[0;31m \u001b[0mX\u001b[0m\u001b[0;34m,\u001b[0m\u001b[0my\u001b[0m \u001b[0;34m=\u001b[0m \u001b[0mmy_functions\u001b[0m\u001b[0;34m.\u001b[0m\u001b[0mcreate_X_y\u001b[0m\u001b[0;34m(\u001b[0m\u001b[0mcampaign\u001b[0m\u001b[0;34m)\u001b[0m\u001b[0;34m\u001b[0m\u001b[0;34m\u001b[0m\u001b[0m\n\u001b[0m\u001b[1;32m      2\u001b[0m \u001b[0mprint\u001b[0m\u001b[0;34m(\u001b[0m\u001b[0mX\u001b[0m\u001b[0;34m.\u001b[0m\u001b[0mhead\u001b[0m\u001b[0;34m(\u001b[0m\u001b[0;34m)\u001b[0m\u001b[0;34m)\u001b[0m\u001b[0;34m\u001b[0m\u001b[0;34m\u001b[0m\u001b[0m\n",
            "\u001b[0;31mAttributeError\u001b[0m: 'ModuleSpec' object has no attribute 'create_X_y'"
          ]
        }
      ]
    },
    {
      "cell_type": "markdown",
      "source": [
        "### Split the data"
      ],
      "metadata": {
        "id": "C1RkYDaMFA52"
      }
    },
    {
      "cell_type": "code",
      "source": [
        "from sklearn.model_selection import train_test_split\n",
        "X_train, X_test, y_train, y_test = train_test_split(X, y, test_size=0.3, random_state=0)\n",
        "\n",
        "\n",
        "\n",
        "\n",
        "# commented out print statments to remove clutter.  These just show info about the split\n",
        "# print(X_train.head())\n",
        "# print(X.info())\n",
        "# print(y_train.head())"
      ],
      "metadata": {
        "id": "fAlIm3XKMCO4"
      },
      "execution_count": null,
      "outputs": []
    },
    {
      "cell_type": "markdown",
      "source": [
        "## Train the Model"
      ],
      "metadata": {
        "id": "ITiiKtko_KvU"
      }
    },
    {
      "cell_type": "code",
      "source": [
        "from sklearn.neighbors import KNeighborsClassifier\n",
        "clf = KNeighborsClassifier()\n",
        "\n",
        "clf.fit(X_train, y_train)\n",
        "clf.score(X_test, y_test)\n"
      ],
      "metadata": {
        "colab": {
          "base_uri": "https://localhost:8080/"
        },
        "id": "sld-AwOIOHq9",
        "outputId": "2a8a9202-7ed9-4824-f6dc-d5ef459e0543"
      },
      "execution_count": null,
      "outputs": [
        {
          "output_type": "execute_result",
          "data": {
            "text/plain": [
              "0.8899379552198543"
            ]
          },
          "metadata": {},
          "execution_count": 44
        }
      ]
    },
    {
      "cell_type": "markdown",
      "source": [
        "## Make predictions"
      ],
      "metadata": {
        "id": "DL-ZGtXv_PQR"
      }
    },
    {
      "cell_type": "code",
      "source": [
        "predictions = clf.predict(X_test)\n",
        "print(predictions)\n",
        "\n"
      ],
      "metadata": {
        "colab": {
          "base_uri": "https://localhost:8080/"
        },
        "id": "ECsGDl5KT9CT",
        "outputId": "fe220de9-5673-4e6c-b24c-641d68b1fb01"
      },
      "execution_count": null,
      "outputs": [
        {
          "output_type": "stream",
          "name": "stdout",
          "text": [
            "[False False False ... False False False]\n"
          ]
        }
      ]
    },
    {
      "cell_type": "markdown",
      "source": [
        "## Results"
      ],
      "metadata": {
        "id": "o58wojp-_U6P"
      }
    },
    {
      "cell_type": "markdown",
      "source": [
        "### Results data"
      ],
      "metadata": {
        "id": "zdR2IpFKDRFM"
      }
    },
    {
      "cell_type": "code",
      "source": [
        "# code obtained from google to quickly get count of each value from np array\n",
        "import numpy as np\n",
        "\n",
        "unique_values, counts = np.unique(predictions, return_counts=True)\n",
        "\n",
        "value_counts = dict(zip(unique_values, counts))\n",
        "\n",
        "print(\"Predictions value counts\")\n",
        "print(value_counts)\n",
        "print(\"------------\")\n",
        "print(\"Should be:\")\n",
        "print(y_test.value_counts())\n"
      ],
      "metadata": {
        "colab": {
          "base_uri": "https://localhost:8080/"
        },
        "id": "wYLjCBpdDUmF",
        "outputId": "a9a173a6-a1d1-4e25-9bef-03e7cc99777f"
      },
      "execution_count": null,
      "outputs": [
        {
          "output_type": "stream",
          "name": "stdout",
          "text": [
            "Predictions value counts\n",
            "{np.False_: np.int64(10459), np.True_: np.int64(662)}\n",
            "------------\n",
            "Should be:\n",
            "y_encoded\n",
            "False    9891\n",
            "True     1230\n",
            "Name: count, dtype: int64\n"
          ]
        }
      ]
    },
    {
      "cell_type": "markdown",
      "source": [
        "### Metrics"
      ],
      "metadata": {
        "id": "TNN1kxhTDOAP"
      }
    },
    {
      "cell_type": "code",
      "source": [
        "from sklearn.metrics import accuracy_score, confusion_matrix, f1_score, precision_score, recall_score\n",
        "\n",
        "print(\"Accuracy:\", accuracy_score(y_test, predictions))\n",
        "print(\"Precision: \",precision_score(y_test, predictions))\n",
        "print(\"Recall\", recall_score(y_test, predictions))\n",
        "print(\"F1\", f1_score(y_test, predictions))"
      ],
      "metadata": {
        "colab": {
          "base_uri": "https://localhost:8080/"
        },
        "id": "COuFDYT9UE-U",
        "outputId": "3f996cae-d8a7-4225-adc7-530b32ac7a03"
      },
      "execution_count": null,
      "outputs": [
        {
          "output_type": "stream",
          "name": "stdout",
          "text": [
            "Accuracy: 0.8899379552198543\n",
            "Precision:  0.5045317220543807\n",
            "Recall 0.27154471544715447\n",
            "F1 0.35306553911205074\n"
          ]
        }
      ]
    },
    {
      "cell_type": "code",
      "source": [
        "conf_matrix = confusion_matrix(y_test, predictions)\n",
        "sns.heatmap(conf_matrix, cmap=\"Blues\")"
      ],
      "metadata": {
        "colab": {
          "base_uri": "https://localhost:8080/",
          "height": 452
        },
        "id": "DWnY4k9AUO_N",
        "outputId": "819edcc1-ef7c-4b16-950e-db8410c5fae8"
      },
      "execution_count": null,
      "outputs": [
        {
          "output_type": "execute_result",
          "data": {
            "text/plain": [
              "<Axes: >"
            ]
          },
          "metadata": {},
          "execution_count": 48
        },
        {
          "output_type": "display_data",
          "data": {
            "text/plain": [
              "<Figure size 640x480 with 2 Axes>"
            ],
            "image/png": "[encoded data removed]"
          },
          "metadata": {}
        }
      ]
    },
    {
      "cell_type": "markdown",
      "source": [
        "# Tune the model\n"
      ],
      "metadata": {
        "id": "HsdvFLK9_ob1"
      }
    },
    {
      "cell_type": "markdown",
      "source": [
        "## N_Neighbors -- F1"
      ],
      "metadata": {
        "id": "tUsGRCrhCQZH"
      }
    },
    {
      "cell_type": "code",
      "source": [
        "# find best max_depth for best f1 score\n",
        "best_f1_score = 0\n",
        "best_n_neighbors = 0\n",
        "\n",
        "for i in range(1, 25, 1):\n",
        "  clf.set_params(n_neighbors=i)\n",
        "  clf.fit(X_train, y_train)\n",
        "  predictions = clf.predict(X_test)\n",
        "  current_f1_score = f1_score(y_test, predictions)\n",
        "  print(f\"Current f1 score: {current_f1_score} with neighbors: {i}\")\n",
        "  if current_f1_score > best_f1_score:\n",
        "    best_f1_score = current_f1_score\n",
        "    best_n_neighbors = i\n",
        "\n",
        "\n",
        "print(\"Best f1 score is: \", best_f1_score)\n",
        "print(\"The neighbors used was: \", best_n_neighbors)\n",
        "\n",
        "\n"
      ],
      "metadata": {
        "colab": {
          "base_uri": "https://localhost:8080/"
        },
        "id": "7u6XLC0i_wCB",
        "outputId": "5cd31e50-5cd9-4162-ce71-6d5e4f0c2802"
      },
      "execution_count": null,
      "outputs": [
        {
          "output_type": "stream",
          "name": "stdout",
          "text": [
            "Current f1 score: 0.32160804020100503 with neighbors: 1\n",
            "Current f1 score: 0.24344569288389514 with neighbors: 2\n",
            "Current f1 score: 0.36253164556962025 with neighbors: 3\n",
            "Current f1 score: 0.2767749699157641 with neighbors: 4\n",
            "Current f1 score: 0.35306553911205074 with neighbors: 5\n",
            "Current f1 score: 0.3000604960677556 with neighbors: 6\n",
            "Current f1 score: 0.3653116531165312 with neighbors: 7\n",
            "Current f1 score: 0.3077844311377245 with neighbors: 8\n",
            "Current f1 score: 0.3462819089900111 with neighbors: 9\n",
            "Current f1 score: 0.3086196503918023 with neighbors: 10\n",
            "Current f1 score: 0.3572621035058431 with neighbors: 11\n",
            "Current f1 score: 0.29450814725407365 with neighbors: 12\n",
            "Current f1 score: 0.33919455473624505 with neighbors: 13\n",
            "Current f1 score: 0.288 with neighbors: 14\n",
            "Current f1 score: 0.3302540415704388 with neighbors: 15\n",
            "Current f1 score: 0.2885085574572127 with neighbors: 16\n",
            "Current f1 score: 0.3213038416763679 with neighbors: 17\n",
            "Current f1 score: 0.29313543599257885 with neighbors: 18\n",
            "Current f1 score: 0.3212616822429907 with neighbors: 19\n",
            "Current f1 score: 0.2853598014888337 with neighbors: 20\n",
            "Current f1 score: 0.32 with neighbors: 21\n",
            "Current f1 score: 0.28376703841387857 with neighbors: 22\n",
            "Current f1 score: 0.3191489361702128 with neighbors: 23\n",
            "Current f1 score: 0.28002489110143125 with neighbors: 24\n",
            "Best f1 score is:  0.3653116531165312\n",
            "The neighbors used was:  7\n"
          ]
        }
      ]
    },
    {
      "cell_type": "markdown",
      "source": [
        "## p -- F1"
      ],
      "metadata": {
        "id": "8fJokxPECWvl"
      }
    },
    {
      "cell_type": "code",
      "source": [
        "best_f1_score = 0\n",
        "best_p = 0\n",
        "\n",
        "\n",
        "for i in range(1, 3):\n",
        "  clf.set_params(p=i, n_neighbors=best_n_neighbors)\n",
        "  clf.fit(X_train, y_train)\n",
        "  predictions = clf.predict(X_test)\n",
        "  current_f1_score = f1_score(y_test, predictions)\n",
        "  print(f\"Current f1 score: {current_f1_score} with p: {i}\")\n",
        "  if current_f1_score > best_f1_score:\n",
        "    best_f1_score = current_f1_score\n",
        "    best_p = i\n",
        "\n",
        "print(\"Best f1 score is: \", best_f1_score)\n",
        "print(\"The p used was: \", best_p)"
      ],
      "metadata": {
        "colab": {
          "base_uri": "https://localhost:8080/"
        },
        "id": "nifgq8x1CZiq",
        "outputId": "74cf6514-6417-4e82-a07e-143e0d9daf92"
      },
      "execution_count": null,
      "outputs": [
        {
          "output_type": "stream",
          "name": "stdout",
          "text": [
            "Current f1 score: 0.3638332430969139 with p: 1\n",
            "Current f1 score: 0.3653116531165312 with p: 2\n",
            "Best f1 score is:  0.3653116531165312\n",
            "The p used was:  2\n"
          ]
        }
      ]
    },
    {
      "cell_type": "markdown",
      "source": [
        "## weights -- F1\n",
        "\n",
        "\n"
      ],
      "metadata": {
        "id": "CxZErKVTYUFT"
      }
    },
    {
      "cell_type": "code",
      "source": [
        "best_f1_score = 0\n",
        "best_weight = \"\"\n",
        "weight_options = ['uniform', 'distance']\n",
        "\n",
        "\n",
        "for i in weight_options:\n",
        "  clf.set_params(p=best_p, n_neighbors=best_n_neighbors, weights=i)\n",
        "  clf.fit(X_train, y_train)\n",
        "  predictions = clf.predict(X_test)\n",
        "  current_f1_score = f1_score(y_test, predictions)\n",
        "  print(f\"Current f1 score: {current_f1_score} with weight option: {i}\")\n",
        "  if current_f1_score > best_f1_score:\n",
        "    best_f1_score = current_f1_score\n",
        "    best_weight = i\n",
        "\n",
        "print(\"Best f1 score is: \", best_f1_score)\n",
        "print(\"The weight option used was: \", best_weight)"
      ],
      "metadata": {
        "colab": {
          "base_uri": "https://localhost:8080/"
        },
        "id": "WZAM7B-TYXGi",
        "outputId": "c8affb09-b40b-4b83-f96f-0c97d7405cd5"
      },
      "execution_count": null,
      "outputs": [
        {
          "output_type": "stream",
          "name": "stdout",
          "text": [
            "Current f1 score: 0.3653116531165312 with weight option: uniform\n",
            "Current f1 score: 0.35366478728857 with weight option: distance\n",
            "Best f1 score is:  0.3653116531165312\n",
            "The weight option used was:  uniform\n"
          ]
        }
      ]
    },
    {
      "cell_type": "markdown",
      "source": [
        "# Tuned Results"
      ],
      "metadata": {
        "id": "GeFmsCdkfCE9"
      }
    },
    {
      "cell_type": "code",
      "source": [
        "\n",
        "clf.set_params(p=best_p, n_neighbors=best_n_neighbors, weights=best_weight)\n",
        "\n",
        "clf.fit(X_train, y_train)\n",
        "clf.score(X_test, y_test)\n",
        "print(\"X test shape\", X_test.shape)\n",
        "predictions = clf.predict(X_test)\n",
        "\n",
        "\n",
        "\n",
        "# our own version of accuracy -- some google code to print the results and what really should be the results.\n",
        "# look at the value counts for true and false\n",
        "unique_values, counts = np.unique(predictions, return_counts=True)\n",
        "value_counts = dict(zip(unique_values, counts))\n",
        "print(\"Predictions value counts\")\n",
        "print(value_counts)\n",
        "print(\"------------\")\n",
        "print(\"Should be:\")\n",
        "print(y_test.value_counts())\n",
        "\n",
        "\n",
        "print(\"\\n\\n\")\n",
        "print(\"Accuracy:\", accuracy_score(y_test, predictions))\n",
        "print(\"Precision: \",precision_score(y_test, predictions))\n",
        "print(\"Recall\", recall_score(y_test, predictions))\n",
        "print(\"F1\", f1_score(y_test, predictions))"
      ],
      "metadata": {
        "colab": {
          "base_uri": "https://localhost:8080/"
        },
        "id": "xrhe0Q0KfGB9",
        "outputId": "c4121177-1df7-4fcd-ff49-256d8e1d114b"
      },
      "execution_count": null,
      "outputs": [
        {
          "output_type": "stream",
          "name": "stdout",
          "text": [
            "X test shape (11121, 30)\n",
            "Predictions value counts\n",
            "{np.False_: np.int64(10506), np.True_: np.int64(615)}\n",
            "------------\n",
            "Should be:\n",
            "y_encoded\n",
            "False    9891\n",
            "True     1230\n",
            "Name: count, dtype: int64\n",
            "\n",
            "\n",
            "\n",
            "Accuracy: 0.8947037136948116\n",
            "Precision:  0.5479674796747968\n",
            "Recall 0.2739837398373984\n",
            "F1 0.3653116531165312\n"
          ]
        }
      ]
    },
    {
      "cell_type": "code",
      "source": [
        "\n",
        "\n",
        "conf_matrix = confusion_matrix(y_test, predictions)\n",
        "sns.heatmap(conf_matrix, cmap=\"Blues\")"
      ],
      "metadata": {
        "colab": {
          "base_uri": "https://localhost:8080/",
          "height": 453
        },
        "outputId": "2fe5d628-0210-4baf-809e-dfe234136efc",
        "id": "Z5GbBYFvur1A"
      },
      "execution_count": null,
      "outputs": [
        {
          "output_type": "execute_result",
          "data": {
            "text/plain": [
              "<Axes: >"
            ]
          },
          "metadata": {},
          "execution_count": 92
        },
        {
          "output_type": "display_data",
          "data": {
            "text/plain": [
              "<Figure size 640x480 with 2 Axes>"
            ],
            "image/png": "[encoded data removed]"
          },
          "metadata": {}
        }
      ]
    },
    {
      "cell_type": "code",
      "source": [
        "print(X.describe())\n",
        "print(X.info())"
      ],
      "metadata": {
        "colab": {
          "base_uri": "https://localhost:8080/"
        },
        "id": "B-9Q49yuFji5",
        "outputId": "99281695-d34c-41c5-e77b-15a4fcf865eb"
      },
      "execution_count": null,
      "outputs": [
        {
          "output_type": "stream",
          "name": "stdout",
          "text": [
            "       emp.var.rate  cons.price.idx  cons.conf.idx     euribor3m   nr.employed\n",
            "count  37069.000000    37069.000000   37069.000000  37069.000000  37069.000000\n",
            "mean       0.725318        0.536068       0.431179      0.677385      0.769038\n",
            "std        0.327560        0.225775       0.193678      0.393221      0.273325\n",
            "min        0.000000        0.000000       0.000000      0.000000      0.000000\n",
            "25%        0.333333        0.340608       0.338912      0.160961      0.512287\n",
            "50%        0.937500        0.603274       0.376569      0.957379      0.859735\n",
            "75%        1.000000        0.698753       0.602510      0.980957      1.000000\n",
            "max        1.000000        1.000000       1.000000      1.000000      1.000000\n",
            "<class 'pandas.core.frame.DataFrame'>\n",
            "RangeIndex: 37069 entries, 0 to 37068\n",
            "Data columns (total 13 columns):\n",
            " #   Column           Non-Null Count  Dtype  \n",
            "---  ------           --------------  -----  \n",
            " 0   emp.var.rate     37069 non-null  float64\n",
            " 1   cons.price.idx   37069 non-null  float64\n",
            " 2   cons.conf.idx    37069 non-null  float64\n",
            " 3   euribor3m        37069 non-null  float64\n",
            " 4   nr.employed      37069 non-null  float64\n",
            " 5   loan_unknown     37069 non-null  bool   \n",
            " 6   loan_yes         37069 non-null  bool   \n",
            " 7   default_unknown  37069 non-null  bool   \n",
            " 8   default_yes      37069 non-null  bool   \n",
            " 9   day_of_week_mon  37069 non-null  bool   \n",
            " 10  day_of_week_thu  37069 non-null  bool   \n",
            " 11  day_of_week_tue  37069 non-null  bool   \n",
            " 12  day_of_week_wed  37069 non-null  bool   \n",
            "dtypes: bool(8), float64(5)\n",
            "memory usage: 1.7 MB\n",
            "None\n"
          ]
        }
      ]
    },
    {
      "cell_type": "markdown",
      "source": [
        "# Holdout data"
      ],
      "metadata": {
        "id": "TIIltyXWfohi"
      }
    },
    {
      "cell_type": "code",
      "source": [
        "## holdout data\n",
        "holdout_data = pd.read_csv(\"https://raw.githubusercontent.com/byui-cse/cse450-course/master/data/bank_holdout_test.csv\")\n",
        "holdout_X, holdout_y = create_X_y(holdout_data)\n",
        "\n",
        "holdout_X.info()\n",
        "\n",
        "holdout_prediction = clf.predict(holdout_X)\n",
        "\n",
        "print(holdout_prediction.shape)"
      ],
      "metadata": {
        "colab": {
          "base_uri": "https://localhost:8080/"
        },
        "id": "h5Co07TbfrWh",
        "outputId": "541f4e0c-bcd2-455c-fb4f-570533ee6726"
      },
      "execution_count": null,
      "outputs": [
        {
          "output_type": "stream",
          "name": "stdout",
          "text": [
            "<class 'pandas.core.frame.DataFrame'>\n",
            "RangeIndex: 4119 entries, 0 to 4118\n",
            "Data columns (total 13 columns):\n",
            " #   Column           Non-Null Count  Dtype  \n",
            "---  ------           --------------  -----  \n",
            " 0   emp.var.rate     4119 non-null   float64\n",
            " 1   cons.price.idx   4119 non-null   float64\n",
            " 2   cons.conf.idx    4119 non-null   float64\n",
            " 3   euribor3m        4119 non-null   float64\n",
            " 4   nr.employed      4119 non-null   float64\n",
            " 5   loan_unknown     4119 non-null   bool   \n",
            " 6   loan_yes         4119 non-null   bool   \n",
            " 7   housing_unknown  4119 non-null   bool   \n",
            " 8   housing_yes      4119 non-null   bool   \n",
            " 9   day_of_week_mon  4119 non-null   bool   \n",
            " 10  day_of_week_thu  4119 non-null   bool   \n",
            " 11  day_of_week_tue  4119 non-null   bool   \n",
            " 12  day_of_week_wed  4119 non-null   bool   \n",
            "dtypes: bool(8), float64(5)\n",
            "memory usage: 193.2 KB\n",
            "(4119,)\n"
          ]
        }
      ]
    }
  ]
}