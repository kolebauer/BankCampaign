{
  "nbformat": 4,
  "nbformat_minor": 0,
  "metadata": {
    "colab": {
      "provenance": []
    },
    "kernelspec": {
      "name": "python3",
      "display_name": "Python 3"
    }
  },
  "cells": [
    {
      "cell_type": "markdown",
      "source": [
        "# Getting Started"
      ],
      "metadata": {
        "id": "ns-FEs6V-A7g"
      }
    },
    {
      "cell_type": "markdown",
      "source": [
        "## Read CSV and Import\n"
      ],
      "metadata": {
        "id": "Vx9KwUcF0LIR"
      }
    },
    {
      "cell_type": "code",
      "metadata": {
        "id": "mA0HPVmIBT4C"
      },
      "source": [
        "import pandas as pd\n",
        "import seaborn as sns\n",
        "sns.set_theme(style=\"darkgrid\")\n",
        "\n",
        "campaign = pd.read_csv('https://raw.githubusercontent.com/byui-cse/cse450-course/master/data/bank.csv')\n"
      ],
      "execution_count": 2,
      "outputs": []
    },
    {
      "cell_type": "markdown",
      "source": [
        "## Helper Functions"
      ],
      "metadata": {
        "id": "9Wh_AFB50JKU"
      }
    },
    {
      "cell_type": "code",
      "source": [
        "\n",
        "def create_X_y(df):\n",
        "  y = None\n",
        "  # map y values if they exist\n",
        "  if 'y' in df:\n",
        "    value_map = {\n",
        "      'yes': 1,\n",
        "      'no': 0\n",
        "    }\n",
        "    df['y_encoded'] = df['y'].map(value_map)\n",
        "    y = df['y_encoded'].astype(bool)\n",
        "\n",
        "\n",
        "  # data bins\n",
        "  # These have been added in attempts to get better results\n",
        "  age_bins = [0, 20, 40, 60, 80]\n",
        "  age_labels = ['young', 'middle-aged', 'old', 'very_old']\n",
        "  campaign['age_bin'] = pd.cut(campaign['age'], age_bins, labels=age_labels )\n",
        "\n",
        "  # Mostly have been dropping pdays because of the # of 999 aka not contacted values, but tried using bins to see if it would help with results.\n",
        "  pdays_bins = [0, 3, 7, 998, 1000]\n",
        "  pdays_labels = ['very_recent', 'recent', 'not_recent', 'not_contacted']\n",
        "  campaign['pdays_bin'] = pd.cut(campaign['pdays'], pdays_bins, labels=pdays_labels )\n",
        "\n",
        "\n",
        "  # scale data - more attempts to find better results.\n",
        "\n",
        "  from sklearn.preprocessing import StandardScaler, MinMaxScaler\n",
        "  features_to_be_scaled = ['emp.var.rate', 'cons.price.idx', 'cons.conf.idx', 'euribor3m', 'nr.employed']\n",
        "  scaler = MinMaxScaler()\n",
        "\n",
        "  # Set features for X and create dummies for the ones that need it\n",
        "  X = df[['job','age_bin', 'loan', 'housing', 'day_of_week', 'pdays_bin', 'emp.var.rate', 'cons.price.idx', 'cons.conf.idx', 'euribor3m', 'nr.employed']]\n",
        "\n",
        "  X = pd.get_dummies(X, columns=['job', 'loan', 'housing', 'day_of_week', 'age_bin', 'pdays_bin'], drop_first=True)\n",
        "  X[features_to_be_scaled] = scaler.fit_transform(X[features_to_be_scaled])\n",
        "\n",
        "\n",
        "  return X,y"
      ],
      "metadata": {
        "id": "w4fzFGn7S-Vk"
      },
      "execution_count": 3,
      "outputs": []
    },
    {
      "cell_type": "markdown",
      "source": [
        "# Model Training"
      ],
      "metadata": {
        "id": "IQvklRBML_iY"
      }
    },
    {
      "cell_type": "markdown",
      "source": [
        "## Data Prep for specific model"
      ],
      "metadata": {
        "id": "r_HrJOVL_A4A"
      }
    },
    {
      "cell_type": "markdown",
      "source": [
        "Create x,y"
      ],
      "metadata": {
        "id": "y8UC_HUKolfR"
      }
    },
    {
      "cell_type": "code",
      "source": [
        "X,y = create_X_y(campaign)\n",
        "\n",
        "# verifying our X has scaled data\n",
        "print(X.head())"
      ],
      "metadata": {
        "id": "YR7p-I5sE-8U",
        "colab": {
          "base_uri": "https://localhost:8080/"
        },
        "outputId": "1bb5fbf9-f33a-46c4-912d-d7d9de1290e0"
      },
      "execution_count": 4,
      "outputs": [
        {
          "output_type": "stream",
          "name": "stdout",
          "text": [
            "   emp.var.rate  cons.price.idx  cons.conf.idx  euribor3m  nr.employed  \\\n",
            "0        0.9375        0.698753        0.60251   0.957379     0.859735   \n",
            "1        0.9375        0.698753        0.60251   0.957379     0.859735   \n",
            "2        0.9375        0.698753        0.60251   0.957379     0.859735   \n",
            "3        0.9375        0.698753        0.60251   0.957379     0.859735   \n",
            "4        0.9375        0.698753        0.60251   0.957379     0.859735   \n",
            "\n",
            "   job_blue-collar  job_entrepreneur  job_housemaid  job_management  \\\n",
            "0            False             False           True           False   \n",
            "1            False             False          False           False   \n",
            "2            False             False          False           False   \n",
            "3            False             False          False           False   \n",
            "4            False             False          False           False   \n",
            "\n",
            "   job_retired  ...  day_of_week_mon  day_of_week_thu  day_of_week_tue  \\\n",
            "0        False  ...             True            False            False   \n",
            "1        False  ...             True            False            False   \n",
            "2        False  ...             True            False            False   \n",
            "3        False  ...             True            False            False   \n",
            "4        False  ...             True            False            False   \n",
            "\n",
            "   day_of_week_wed  age_bin_middle-aged  age_bin_old  age_bin_very_old  \\\n",
            "0            False                False         True             False   \n",
            "1            False                False         True             False   \n",
            "2            False                 True        False             False   \n",
            "3            False                 True        False             False   \n",
            "4            False                False         True             False   \n",
            "\n",
            "   pdays_bin_recent  pdays_bin_not_recent  pdays_bin_not_contacted  \n",
            "0             False                 False                     True  \n",
            "1             False                 False                     True  \n",
            "2             False                 False                     True  \n",
            "3             False                 False                     True  \n",
            "4             False                 False                     True  \n",
            "\n",
            "[5 rows x 30 columns]\n"
          ]
        }
      ]
    },
    {
      "cell_type": "markdown",
      "source": [
        "### Split the data"
      ],
      "metadata": {
        "id": "C1RkYDaMFA52"
      }
    },
    {
      "cell_type": "code",
      "source": [
        "from sklearn.model_selection import train_test_split\n",
        "X_train, X_test, y_train, y_test = train_test_split(X, y, test_size=0.3, random_state=0)\n",
        "\n",
        "\n",
        "\n",
        "\n",
        "# commented out print statments to remove clutter.  These just show info about the split\n",
        "# print(X_train.head())\n",
        "# print(X.info())\n",
        "# print(y_train.head())"
      ],
      "metadata": {
        "id": "fAlIm3XKMCO4"
      },
      "execution_count": 5,
      "outputs": []
    },
    {
      "cell_type": "markdown",
      "source": [
        "## Train the Model"
      ],
      "metadata": {
        "id": "ITiiKtko_KvU"
      }
    },
    {
      "cell_type": "code",
      "source": [
        "# these are the different classifiers we've been testing with.\n",
        "from sklearn.neighbors import KNeighborsClassifier\n",
        "from sklearn.tree import DecisionTreeClassifier\n",
        "from sklearn.ensemble import GradientBoostingClassifier, HistGradientBoostingClassifier\n",
        "\n",
        "\n",
        "clf = GradientBoostingClassifier(n_estimators=50, learning_rate=1.0, max_depth=100, random_state=0)\n",
        "# clf = HistGradientBoostingClassifier()\n",
        "\n",
        "clf.fit(X_train, y_train)\n",
        "clf.score(X_test, y_test)\n"
      ],
      "metadata": {
        "colab": {
          "base_uri": "https://localhost:8080/"
        },
        "id": "sld-AwOIOHq9",
        "outputId": "f70568d5-258a-478d-9d03-bc514f3b457b"
      },
      "execution_count": 6,
      "outputs": [
        {
          "output_type": "execute_result",
          "data": {
            "text/plain": [
              "0.8760902796511105"
            ]
          },
          "metadata": {},
          "execution_count": 6
        }
      ]
    },
    {
      "cell_type": "markdown",
      "source": [
        "## Make predictions"
      ],
      "metadata": {
        "id": "DL-ZGtXv_PQR"
      }
    },
    {
      "cell_type": "code",
      "source": [
        "predictions = clf.predict(X_test)\n",
        "print(predictions)\n",
        "\n"
      ],
      "metadata": {
        "colab": {
          "base_uri": "https://localhost:8080/"
        },
        "id": "ECsGDl5KT9CT",
        "outputId": "7bd0f254-6c14-4b10-fa80-c85fa4e417fa"
      },
      "execution_count": 7,
      "outputs": [
        {
          "output_type": "stream",
          "name": "stdout",
          "text": [
            "[False False False ... False False False]\n"
          ]
        }
      ]
    },
    {
      "cell_type": "markdown",
      "source": [
        "## Results"
      ],
      "metadata": {
        "id": "o58wojp-_U6P"
      }
    },
    {
      "cell_type": "markdown",
      "source": [
        "### Results data"
      ],
      "metadata": {
        "id": "zdR2IpFKDRFM"
      }
    },
    {
      "cell_type": "code",
      "source": [
        "# code obtained from google to quickly get count of each value from np array\n",
        "import numpy as np\n",
        "\n",
        "unique_values, counts = np.unique(predictions, return_counts=True)\n",
        "\n",
        "value_counts = dict(zip(unique_values, counts))\n",
        "\n",
        "print(\"Predictions value counts\")\n",
        "print(value_counts)\n",
        "print(\"------------\")\n",
        "print(\"Should be:\")\n",
        "print(y_test.value_counts())\n"
      ],
      "metadata": {
        "colab": {
          "base_uri": "https://localhost:8080/"
        },
        "id": "wYLjCBpdDUmF",
        "outputId": "9f62cd8b-130c-4719-d99d-ccbb8677eb6e"
      },
      "execution_count": 8,
      "outputs": [
        {
          "output_type": "stream",
          "name": "stdout",
          "text": [
            "Predictions value counts\n",
            "{np.False_: np.int64(10249), np.True_: np.int64(872)}\n",
            "------------\n",
            "Should be:\n",
            "y_encoded\n",
            "False    9891\n",
            "True     1230\n",
            "Name: count, dtype: int64\n"
          ]
        }
      ]
    },
    {
      "cell_type": "markdown",
      "source": [
        "### Metrics"
      ],
      "metadata": {
        "id": "TNN1kxhTDOAP"
      }
    },
    {
      "cell_type": "code",
      "source": [
        "from sklearn.metrics import accuracy_score, confusion_matrix, f1_score, precision_score, recall_score\n",
        "\n",
        "print(\"Accuracy:\", accuracy_score(y_test, predictions))\n",
        "print(\"Precision: \",precision_score(y_test, predictions))\n",
        "print(\"Recall\", recall_score(y_test, predictions))\n",
        "print(\"F1\", f1_score(y_test, predictions))"
      ],
      "metadata": {
        "colab": {
          "base_uri": "https://localhost:8080/"
        },
        "id": "COuFDYT9UE-U",
        "outputId": "c907cfbe-ce2c-4e58-f957-ccc3e46792df"
      },
      "execution_count": 9,
      "outputs": [
        {
          "output_type": "stream",
          "name": "stdout",
          "text": [
            "Accuracy: 0.8760902796511105\n",
            "Precision:  0.4151376146788991\n",
            "Recall 0.2943089430894309\n",
            "F1 0.34443387250237867\n"
          ]
        }
      ]
    },
    {
      "cell_type": "code",
      "source": [
        "conf_matrix = confusion_matrix(y_test, predictions)\n",
        "sns.heatmap(conf_matrix, cmap=\"Blues\")"
      ],
      "metadata": {
        "colab": {
          "base_uri": "https://localhost:8080/",
          "height": 452
        },
        "id": "DWnY4k9AUO_N",
        "outputId": "930e75fc-47d3-4379-f49c-4b0b68b88f07"
      },
      "execution_count": null,
      "outputs": [
        {
          "output_type": "execute_result",
          "data": {
            "text/plain": [
              "<Axes: >"
            ]
          },
          "metadata": {},
          "execution_count": 87
        },
        {
          "output_type": "display_data",
          "data": {
            "text/plain": [
              "<Figure size 640x480 with 2 Axes>"
            ],
            "image/png": "[encoded data removed]"
          },
          "metadata": {}
        }
      ]
    },
    {
      "cell_type": "markdown",
      "source": [
        "# Tune the model\n"
      ],
      "metadata": {
        "id": "HsdvFLK9_ob1"
      }
    },
    {
      "cell_type": "markdown",
      "source": [
        "## Max Depth -- F1"
      ],
      "metadata": {
        "id": "tUsGRCrhCQZH"
      }
    },
    {
      "cell_type": "code",
      "source": [
        "# find best max_depth for best f1 score\n",
        "best_f1_score = 0\n",
        "best_max_depth = 0\n",
        "\n",
        "for i in range(1, 25, 1):\n",
        "  clf = GradientBoostingClassifier(n_estimators=32, learning_rate=1.0, max_depth=i, random_state=0)\n",
        "  clf.fit(X_train, y_train)\n",
        "  predictions = clf.predict(X_test)\n",
        "  current_f1_score = f1_score(y_test, predictions)\n",
        "  print(f\"Current f1 score: {current_f1_score} with max depth: {i}\")\n",
        "  if current_f1_score > best_f1_score:\n",
        "    best_f1_score = current_f1_score\n",
        "    best_max_depth = i\n",
        "\n",
        "\n",
        "print(\"Best f1 score is: \", best_f1_score)\n",
        "print(\"The max depth used was: \", best_max_depth)\n",
        "\n",
        "\n"
      ],
      "metadata": {
        "colab": {
          "base_uri": "https://localhost:8080/"
        },
        "id": "7u6XLC0i_wCB",
        "outputId": "3f8142ec-76c4-499b-f82d-9220f9965b92"
      },
      "execution_count": null,
      "outputs": [
        {
          "output_type": "stream",
          "name": "stdout",
          "text": [
            "Current f1 score: 0.2906906906906907 with max depth: 1\n",
            "Current f1 score: 0.3123543123543124 with max depth: 2\n",
            "Current f1 score: 0.34501947690595436 with max depth: 3\n",
            "Current f1 score: 0.33276740237691 with max depth: 4\n",
            "Current f1 score: 0.33351924149470163 with max depth: 5\n",
            "Current f1 score: 0.34950385887541346 with max depth: 6\n",
            "Current f1 score: 0.3392070484581498 with max depth: 7\n",
            "Current f1 score: 0.3324130314743236 with max depth: 8\n",
            "Current f1 score: 0.33854447439353097 with max depth: 9\n",
            "Current f1 score: 0.318955732122588 with max depth: 10\n",
            "Current f1 score: 0.30335097001763667 with max depth: 11\n",
            "Current f1 score: 0.3177054605626034 with max depth: 12\n",
            "Current f1 score: 0.3223647518126046 with max depth: 13\n",
            "Current f1 score: 0.32128960533629797 with max depth: 14\n",
            "Current f1 score: 0.28080568720379145 with max depth: 15\n",
            "Current f1 score: 0.28134196586227195 with max depth: 16\n",
            "Current f1 score: 0.323094425483504 with max depth: 17\n",
            "Current f1 score: 0.3000577034045009 with max depth: 18\n",
            "Current f1 score: 0.2692078618225134 with max depth: 19\n",
            "Current f1 score: 0.28319623971797886 with max depth: 20\n",
            "Current f1 score: 0.2908878504672897 with max depth: 21\n",
            "Current f1 score: 0.2872093023255814 with max depth: 22\n",
            "Current f1 score: 0.2908878504672897 with max depth: 23\n",
            "Current f1 score: 0.2903790087463557 with max depth: 24\n",
            "Best f1 score is:  0.34950385887541346\n",
            "The max depth used was:  6\n"
          ]
        }
      ]
    },
    {
      "cell_type": "markdown",
      "source": [
        "## n_estimators -- F1"
      ],
      "metadata": {
        "id": "8fJokxPECWvl"
      }
    },
    {
      "cell_type": "code",
      "source": [
        "best_f1_score = 0\n",
        "best_n_estimators = 0\n",
        "\n",
        "\n",
        "for i in range(2, 150, 10):\n",
        "  clf = GradientBoostingClassifier(n_estimators=i, learning_rate=1.0, max_depth=best_max_depth, random_state=0)\n",
        "  clf.fit(X_train, y_train)\n",
        "  predictions = clf.predict(X_test)\n",
        "  current_f1_score = f1_score(y_test, predictions)\n",
        "  print(f\"Current f1 score: {current_f1_score} with n_estimators: {i}\")\n",
        "  if current_f1_score > best_f1_score:\n",
        "    best_f1_score = current_f1_score\n",
        "    best_n_estimators = i\n",
        "\n",
        "print(\"Best f1 score is: \", best_f1_score)\n",
        "print(\"The n_estimators used was: \", best_n_estimators)"
      ],
      "metadata": {
        "colab": {
          "base_uri": "https://localhost:8080/"
        },
        "id": "nifgq8x1CZiq",
        "outputId": "e68e4309-025f-4799-c524-23087940bd3a"
      },
      "execution_count": null,
      "outputs": [
        {
          "output_type": "stream",
          "name": "stdout",
          "text": [
            "Current f1 score: 0.0715372907153729 with n_estimators: 2\n",
            "Current f1 score: 0.345679012345679 with n_estimators: 12\n",
            "Current f1 score: 0.35555555555555557 with n_estimators: 22\n",
            "Current f1 score: 0.34950385887541346 with n_estimators: 32\n",
            "Current f1 score: 0.343646408839779 with n_estimators: 42\n",
            "Current f1 score: 0.343646408839779 with n_estimators: 52\n",
            "Current f1 score: 0.3376044568245125 with n_estimators: 62\n",
            "Current f1 score: 0.3379655364091162 with n_estimators: 72\n",
            "Current f1 score: 0.3412742382271468 with n_estimators: 82\n",
            "Current f1 score: 0.3425720620842572 with n_estimators: 92\n",
            "Current f1 score: 0.3377926421404682 with n_estimators: 102\n",
            "Current f1 score: 0.33962264150943394 with n_estimators: 112\n",
            "Current f1 score: 0.3449805879090405 with n_estimators: 122\n",
            "Current f1 score: 0.3487858719646799 with n_estimators: 132\n",
            "Current f1 score: 0.343871325568497 with n_estimators: 142\n",
            "Best f1 score is:  0.35555555555555557\n",
            "The n_estimators used was:  22\n"
          ]
        }
      ]
    },
    {
      "cell_type": "markdown",
      "source": [
        "## Learning Rate -- F1\n",
        "\n",
        "\n"
      ],
      "metadata": {
        "id": "CxZErKVTYUFT"
      }
    },
    {
      "cell_type": "code",
      "source": [
        "best_f1_score = 0\n",
        "best_learning_rate = 0\n",
        "\n",
        "for i in range(5, 40):\n",
        "  lr = i/10\n",
        "  clf = GradientBoostingClassifier(n_estimators=best_n_estimators, learning_rate=lr, max_depth=best_max_depth, random_state=0)\n",
        "  clf.fit(X_train, y_train)\n",
        "  predictions = clf.predict(X_test)\n",
        "  current_f1_score = f1_score(y_test, predictions)\n",
        "  print(f\"Current f1 score: {current_f1_score} with learning_rate: {i}\")\n",
        "  if current_f1_score > best_f1_score:\n",
        "    best_f1_score = current_f1_score\n",
        "    best_learning_rate = lr\n",
        "\n",
        "print(\"Best f1 score is: \", best_f1_score)\n",
        "print(\"The learning_rate used was: \", best_learning_rate)"
      ],
      "metadata": {
        "colab": {
          "base_uri": "https://localhost:8080/"
        },
        "id": "WZAM7B-TYXGi",
        "outputId": "8e72f850-2e50-49ab-e909-413458ec2d86"
      },
      "execution_count": null,
      "outputs": [
        {
          "output_type": "stream",
          "name": "stdout",
          "text": [
            "Current f1 score: 0.33896396396396394 with learning_rate: 5\n",
            "Current f1 score: 0.3479224376731302 with learning_rate: 6\n",
            "Current f1 score: 0.34092171016102163 with learning_rate: 7\n",
            "Current f1 score: 0.3331463825014021 with learning_rate: 8\n",
            "Current f1 score: 0.33851276359600446 with learning_rate: 9\n",
            "Current f1 score: 0.35555555555555557 with learning_rate: 10\n",
            "Current f1 score: 0.2540638169777243 with learning_rate: 11\n",
            "Current f1 score: 0.39902439024390246 with learning_rate: 12\n",
            "Current f1 score: 0.33402489626556015 with learning_rate: 13\n",
            "Current f1 score: 0.4257845631891433 with learning_rate: 14\n",
            "Current f1 score: 0.3887277248238707 with learning_rate: 15\n",
            "Current f1 score: 0.39865715484683173 with learning_rate: 16\n",
            "Current f1 score: 0.32575757575757575 with learning_rate: 17\n",
            "Current f1 score: 0.3480296527506828 with learning_rate: 18\n",
            "Current f1 score: 0.42771084337349397 with learning_rate: 19\n",
            "Current f1 score: 0.3702609551944855 with learning_rate: 20\n",
            "Current f1 score: 0.357553803537183 with learning_rate: 21\n",
            "Current f1 score: 0.36977567886658796 with learning_rate: 22\n",
            "Current f1 score: 0.3568894952251023 with learning_rate: 23\n",
            "Current f1 score: 0.3173452314556609 with learning_rate: 24\n",
            "Current f1 score: 0.2964996568291009 with learning_rate: 25\n",
            "Current f1 score: 0.12867581536268044 with learning_rate: 26\n",
            "Current f1 score: 0.12086996760758908 with learning_rate: 27\n",
            "Current f1 score: 0.21768707482993196 with learning_rate: 28\n",
            "Current f1 score: 0.24597519134336238 with learning_rate: 29\n",
            "Current f1 score: 0.13554852320675106 with learning_rate: 30\n",
            "Current f1 score: 0.13295752745650694 with learning_rate: 31\n",
            "Current f1 score: 0.14195281028198733 with learning_rate: 32\n",
            "Current f1 score: 0.14311646125919555 with learning_rate: 33\n",
            "Current f1 score: 0.13355227148330598 with learning_rate: 34\n",
            "Current f1 score: 0.12812383439015293 with learning_rate: 35\n",
            "Current f1 score: 0.12245666917859835 with learning_rate: 36\n",
            "Current f1 score: 0.14168585905112852 with learning_rate: 37\n",
            "Current f1 score: 0.1341954830849967 with learning_rate: 38\n",
            "Current f1 score: 0.1342206392351673 with learning_rate: 39\n",
            "Best f1 score is:  0.42771084337349397\n",
            "The learning_rate used was:  1.9\n"
          ]
        }
      ]
    },
    {
      "cell_type": "markdown",
      "source": [
        "# Tuned Results"
      ],
      "metadata": {
        "id": "GeFmsCdkfCE9"
      }
    },
    {
      "cell_type": "code",
      "source": [
        "\n",
        "clf = GradientBoostingClassifier(n_estimators=best_n_estimators, learning_rate=best_learning_rate, max_depth=best_max_depth, random_state=0)\n",
        "print(clf)\n",
        "clf.fit(X_train, y_train)\n",
        "clf.score(X_test, y_test)\n",
        "print(\"X test shape\", X_test.shape)\n",
        "predictions = clf.predict(X_test)\n",
        "\n",
        "\n",
        "\n",
        "# our own version of accuracy -- some google code to print the results and what really should be the results.\n",
        "# look at the value counts for true and false\n",
        "unique_values, counts = np.unique(predictions, return_counts=True)\n",
        "value_counts = dict(zip(unique_values, counts))\n",
        "print(\"Predictions value counts\")\n",
        "print(value_counts)\n",
        "print(\"------------\")\n",
        "print(\"Should be:\")\n",
        "print(y_test.value_counts())\n",
        "\n",
        "\n",
        "print(\"\\n\\n\")\n",
        "print(\"Accuracy:\", accuracy_score(y_test, predictions))\n",
        "print(\"Precision: \",precision_score(y_test, predictions))\n",
        "print(\"Recall\", recall_score(y_test, predictions))\n",
        "print(\"F1\", f1_score(y_test, predictions))"
      ],
      "metadata": {
        "colab": {
          "base_uri": "https://localhost:8080/"
        },
        "id": "xrhe0Q0KfGB9",
        "outputId": "34d02161-fa7d-4b00-e2ef-1334b7de461c"
      },
      "execution_count": null,
      "outputs": [
        {
          "output_type": "stream",
          "name": "stdout",
          "text": [
            "GradientBoostingClassifier(learning_rate=1.9, max_depth=6, n_estimators=22,\n",
            "                           random_state=0)\n",
            "X test shape (11121, 13)\n",
            "Predictions value counts\n",
            "{np.False_: np.int64(9363), np.True_: np.int64(1758)}\n",
            "------------\n",
            "Should be:\n",
            "y_encoded\n",
            "False    9891\n",
            "True     1230\n",
            "Name: count, dtype: int64\n",
            "\n",
            "\n",
            "\n",
            "Accuracy: 0.8462368492042083\n",
            "Precision:  0.363481228668942\n",
            "Recall 0.5195121951219512\n",
            "F1 0.42771084337349397\n"
          ]
        }
      ]
    },
    {
      "cell_type": "code",
      "source": [
        "conf_matrix = confusion_matrix(y_test, predictions)\n",
        "sns.heatmap(conf_matrix, cmap=\"Blues\")"
      ],
      "metadata": {
        "colab": {
          "base_uri": "https://localhost:8080/",
          "height": 453
        },
        "outputId": "2fe5d628-0210-4baf-809e-dfe234136efc",
        "id": "Z5GbBYFvur1A"
      },
      "execution_count": null,
      "outputs": [
        {
          "output_type": "execute_result",
          "data": {
            "text/plain": [
              "<Axes: >"
            ]
          },
          "metadata": {},
          "execution_count": 92
        },
        {
          "output_type": "display_data",
          "data": {
            "text/plain": [
              "<Figure size 640x480 with 2 Axes>"
            ],
            "image/png": "[encoded data removed]"
          },
          "metadata": {}
        }
      ]
    },
    {
      "cell_type": "code",
      "source": [
        "print(X.describe())\n",
        "print(X.info())"
      ],
      "metadata": {
        "colab": {
          "base_uri": "https://localhost:8080/"
        },
        "id": "B-9Q49yuFji5",
        "outputId": "99281695-d34c-41c5-e77b-15a4fcf865eb"
      },
      "execution_count": null,
      "outputs": [
        {
          "output_type": "stream",
          "name": "stdout",
          "text": [
            "       emp.var.rate  cons.price.idx  cons.conf.idx     euribor3m   nr.employed\n",
            "count  37069.000000    37069.000000   37069.000000  37069.000000  37069.000000\n",
            "mean       0.725318        0.536068       0.431179      0.677385      0.769038\n",
            "std        0.327560        0.225775       0.193678      0.393221      0.273325\n",
            "min        0.000000        0.000000       0.000000      0.000000      0.000000\n",
            "25%        0.333333        0.340608       0.338912      0.160961      0.512287\n",
            "50%        0.937500        0.603274       0.376569      0.957379      0.859735\n",
            "75%        1.000000        0.698753       0.602510      0.980957      1.000000\n",
            "max        1.000000        1.000000       1.000000      1.000000      1.000000\n",
            "<class 'pandas.core.frame.DataFrame'>\n",
            "RangeIndex: 37069 entries, 0 to 37068\n",
            "Data columns (total 13 columns):\n",
            " #   Column           Non-Null Count  Dtype  \n",
            "---  ------           --------------  -----  \n",
            " 0   emp.var.rate     37069 non-null  float64\n",
            " 1   cons.price.idx   37069 non-null  float64\n",
            " 2   cons.conf.idx    37069 non-null  float64\n",
            " 3   euribor3m        37069 non-null  float64\n",
            " 4   nr.employed      37069 non-null  float64\n",
            " 5   loan_unknown     37069 non-null  bool   \n",
            " 6   loan_yes         37069 non-null  bool   \n",
            " 7   default_unknown  37069 non-null  bool   \n",
            " 8   default_yes      37069 non-null  bool   \n",
            " 9   day_of_week_mon  37069 non-null  bool   \n",
            " 10  day_of_week_thu  37069 non-null  bool   \n",
            " 11  day_of_week_tue  37069 non-null  bool   \n",
            " 12  day_of_week_wed  37069 non-null  bool   \n",
            "dtypes: bool(8), float64(5)\n",
            "memory usage: 1.7 MB\n",
            "None\n"
          ]
        }
      ]
    },
    {
      "cell_type": "markdown",
      "source": [
        "# Holdout data"
      ],
      "metadata": {
        "id": "TIIltyXWfohi"
      }
    },
    {
      "cell_type": "code",
      "source": [
        "# ## holdout data\n",
        "# holdout_data = pd.read_csv(\"https://raw.githubusercontent.com/byui-cse/cse450-course/master/data/bank_holdout_test.csv\")\n",
        "# holdout_X, holdout_y = create_X_y(holdout_data)\n",
        "\n",
        "# holdout_X.info()\n",
        "\n",
        "# holdout_prediction = clf.predict(holdout_X)\n",
        "\n",
        "# print(holdout_prediction.shape)"
      ],
      "metadata": {
        "id": "h5Co07TbfrWh"
      },
      "execution_count": 1,
      "outputs": []
    }
  ]
}