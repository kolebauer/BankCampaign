{
  "nbformat": 4,
  "nbformat_minor": 0,
  "metadata": {
    "colab": {
      "name": "starter_bank.ipynb",
      "provenance": []
    },
    "kernelspec": {
      "name": "python3",
      "display_name": "Python 3"
    }
  },
  "cells": [
    {
      "cell_type": "code",
      "metadata": {
        "id": "mA0HPVmIBT4C"
      },
      "source": [
        "import pandas as pd\n",
        "\n",
        "campaign = pd.read_csv('https://raw.githubusercontent.com/byui-cse/cse450-course/master/data/bank.csv')"
      ],
      "execution_count": 120,
      "outputs": []
    },
    {
      "cell_type": "code",
      "source": [
        "# helper functions\n",
        "def data_inspections(field):\n",
        "  # print out the describe, value counts of the given field.\n",
        "  print(\"\\n\")\n",
        "  print(\"Describe\\n\",campaign[field].describe())\n",
        "  print(\"\\n\")\n",
        "  print(\"Value Counts\\n\",campaign[field].value_counts())\n",
        "  print(\"\\n\")\n",
        "\n",
        "  # This list is the list of values to check for as if they represent null.\n",
        "  null_value_check_list = ['nonexistent', 'unknown']\n",
        "  for nv in null_value_check_list:\n",
        "  # check if null values exist and if so, show the percent in of them that are in the column.\n",
        "    if nv in campaign[field].value_counts():\n",
        "      print(f\"{nv} percent\")\n",
        "      print(campaign[field].value_counts()[nv] / campaign[field].count() * 100)\n",
        "      print(\"\\n\")\n",
        "\n",
        "  # print actual null value counts\n",
        "  print(\"The actual nulls count:\",campaign[field].isna().sum())"
      ],
      "metadata": {
        "id": "VjNsaTeCU-nG"
      },
      "execution_count": 121,
      "outputs": []
    },
    {
      "cell_type": "markdown",
      "source": [
        "# Data inspection\n"
      ],
      "metadata": {
        "id": "m4FbqAopS-wc"
      }
    },
    {
      "cell_type": "markdown",
      "source": [
        "## Age\n",
        "\n"
      ],
      "metadata": {
        "id": "cDM3a2SeWIrF"
      }
    },
    {
      "cell_type": "code",
      "metadata": {
        "id": "ALLMN63FPyEQ",
        "colab": {
          "base_uri": "https://localhost:8080/"
        },
        "outputId": "5d660b0c-97fa-4551-e65c-6be43a11db66"
      },
      "source": [
        "data_inspections('age')"
      ],
      "execution_count": 122,
      "outputs": [
        {
          "output_type": "stream",
          "name": "stdout",
          "text": [
            "\n",
            "\n",
            "Describe\n",
            " count    37069.000000\n",
            "mean        40.025493\n",
            "std         10.435288\n",
            "min         17.000000\n",
            "25%         32.000000\n",
            "50%         38.000000\n",
            "75%         47.000000\n",
            "max         98.000000\n",
            "Name: age, dtype: float64\n",
            "\n",
            "\n",
            "Value Counts\n",
            " age\n",
            "31    1748\n",
            "32    1658\n",
            "33    1640\n",
            "36    1594\n",
            "34    1581\n",
            "      ... \n",
            "91       2\n",
            "98       2\n",
            "95       1\n",
            "87       1\n",
            "94       1\n",
            "Name: count, Length: 78, dtype: int64\n",
            "\n",
            "\n",
            "The actual nulls count: 0\n"
          ]
        }
      ]
    },
    {
      "cell_type": "markdown",
      "source": [
        "## Job\n"
      ],
      "metadata": {
        "id": "qZd6leL-XBwa"
      }
    },
    {
      "cell_type": "code",
      "source": [
        "data_inspections('job')"
      ],
      "metadata": {
        "id": "gAlDfUT-XKKb",
        "outputId": "8df8602e-17e3-4e2a-f743-fb97bd40c4c5",
        "colab": {
          "base_uri": "https://localhost:8080/"
        }
      },
      "execution_count": 123,
      "outputs": [
        {
          "output_type": "stream",
          "name": "stdout",
          "text": [
            "\n",
            "\n",
            "Describe\n",
            " count      37069\n",
            "unique        12\n",
            "top       admin.\n",
            "freq        9400\n",
            "Name: job, dtype: object\n",
            "\n",
            "\n",
            "Value Counts\n",
            " job\n",
            "admin.           9400\n",
            "blue-collar      8329\n",
            "technician       6066\n",
            "services         3548\n",
            "management       2648\n",
            "retired          1534\n",
            "entrepreneur     1308\n",
            "self-employed    1274\n",
            "housemaid         962\n",
            "unemployed        913\n",
            "student           793\n",
            "unknown           294\n",
            "Name: count, dtype: int64\n",
            "\n",
            "\n",
            "unknown percent\n",
            "0.7931155412878685\n",
            "\n",
            "\n",
            "The actual nulls count: 0\n"
          ]
        }
      ]
    },
    {
      "cell_type": "markdown",
      "source": [
        "## Marital"
      ],
      "metadata": {
        "id": "nDnWo-45XWNs"
      }
    },
    {
      "cell_type": "code",
      "source": [
        "data_inspections('marital')"
      ],
      "metadata": {
        "id": "PFghMv2iXVzU",
        "outputId": "e1b60eb7-183b-4301-e1a1-32c25885ca8b",
        "colab": {
          "base_uri": "https://localhost:8080/"
        }
      },
      "execution_count": 124,
      "outputs": [
        {
          "output_type": "stream",
          "name": "stdout",
          "text": [
            "\n",
            "\n",
            "Describe\n",
            " count       37069\n",
            "unique          4\n",
            "top       married\n",
            "freq        22456\n",
            "Name: marital, dtype: object\n",
            "\n",
            "\n",
            "Value Counts\n",
            " marital\n",
            "married     22456\n",
            "single      10410\n",
            "divorced     4134\n",
            "unknown        69\n",
            "Name: count, dtype: int64\n",
            "\n",
            "\n",
            "unknown percent\n",
            "0.1861393617308263\n",
            "\n",
            "\n",
            "The actual nulls count: 0\n"
          ]
        }
      ]
    },
    {
      "cell_type": "markdown",
      "source": [
        "## Education"
      ],
      "metadata": {
        "id": "Ff0H70tIXcal"
      }
    },
    {
      "cell_type": "code",
      "source": [
        "data_inspections('education')"
      ],
      "metadata": {
        "id": "4C64L5XoXdad",
        "outputId": "24693ef4-15f4-4bee-cce8-d72b10c933a1",
        "colab": {
          "base_uri": "https://localhost:8080/"
        }
      },
      "execution_count": 125,
      "outputs": [
        {
          "output_type": "stream",
          "name": "stdout",
          "text": [
            "\n",
            "\n",
            "Describe\n",
            " count                 37069\n",
            "unique                    8\n",
            "top       university.degree\n",
            "freq                  10949\n",
            "Name: education, dtype: object\n",
            "\n",
            "\n",
            "Value Counts\n",
            " education\n",
            "university.degree      10949\n",
            "high.school             8554\n",
            "basic.9y                5427\n",
            "professional.course     4742\n",
            "basic.4y                3764\n",
            "basic.6y                2082\n",
            "unknown                 1535\n",
            "illiterate                16\n",
            "Name: count, dtype: int64\n",
            "\n",
            "\n",
            "unknown percent\n",
            "4.1409263805336\n",
            "\n",
            "\n",
            "The actual nulls count: 0\n"
          ]
        }
      ]
    },
    {
      "cell_type": "markdown",
      "source": [
        "## Default"
      ],
      "metadata": {
        "id": "GVND2LTlXmE1"
      }
    },
    {
      "cell_type": "code",
      "source": [
        "data_inspections(\"default\")"
      ],
      "metadata": {
        "id": "Q_iexMUpXpKF",
        "outputId": "71e93f9c-c0a5-4cdd-9b3d-99c65141200b",
        "colab": {
          "base_uri": "https://localhost:8080/"
        }
      },
      "execution_count": 126,
      "outputs": [
        {
          "output_type": "stream",
          "name": "stdout",
          "text": [
            "\n",
            "\n",
            "Describe\n",
            " count     37069\n",
            "unique        3\n",
            "top          no\n",
            "freq      29341\n",
            "Name: default, dtype: object\n",
            "\n",
            "\n",
            "Value Counts\n",
            " default\n",
            "no         29341\n",
            "unknown     7725\n",
            "yes            3\n",
            "Name: count, dtype: int64\n",
            "\n",
            "\n",
            "unknown percent\n",
            "20.83951549812512\n",
            "\n",
            "\n",
            "The actual nulls count: 0\n"
          ]
        }
      ]
    },
    {
      "cell_type": "markdown",
      "source": [
        "## Housing"
      ],
      "metadata": {
        "id": "hWdeiohgXtN-"
      }
    },
    {
      "cell_type": "code",
      "source": [
        "data_inspections(\"housing\")"
      ],
      "metadata": {
        "id": "t6y7HcAMXtdn",
        "outputId": "cb73473c-1f6a-4001-9b8e-d2d7b58e2c00",
        "colab": {
          "base_uri": "https://localhost:8080/"
        }
      },
      "execution_count": 127,
      "outputs": [
        {
          "output_type": "stream",
          "name": "stdout",
          "text": [
            "\n",
            "\n",
            "Describe\n",
            " count     37069\n",
            "unique        3\n",
            "top         yes\n",
            "freq      19474\n",
            "Name: housing, dtype: object\n",
            "\n",
            "\n",
            "Value Counts\n",
            " housing\n",
            "yes        19474\n",
            "no         16701\n",
            "unknown      894\n",
            "Name: count, dtype: int64\n",
            "\n",
            "\n",
            "unknown percent\n",
            "2.4117186867733147\n",
            "\n",
            "\n",
            "The actual nulls count: 0\n"
          ]
        }
      ]
    },
    {
      "cell_type": "markdown",
      "source": [
        "## Loan"
      ],
      "metadata": {
        "id": "VlYtnXb9X0J_"
      }
    },
    {
      "cell_type": "code",
      "source": [
        "data_inspections(\"loan\")"
      ],
      "metadata": {
        "id": "m6EZMrziX2mP",
        "outputId": "4f4d32e4-ffd5-4cc5-e341-4094ffc138f5",
        "colab": {
          "base_uri": "https://localhost:8080/"
        }
      },
      "execution_count": 128,
      "outputs": [
        {
          "output_type": "stream",
          "name": "stdout",
          "text": [
            "\n",
            "\n",
            "Describe\n",
            " count     37069\n",
            "unique        3\n",
            "top          no\n",
            "freq      30590\n",
            "Name: loan, dtype: object\n",
            "\n",
            "\n",
            "Value Counts\n",
            " loan\n",
            "no         30590\n",
            "yes         5585\n",
            "unknown      894\n",
            "Name: count, dtype: int64\n",
            "\n",
            "\n",
            "unknown percent\n",
            "2.4117186867733147\n",
            "\n",
            "\n",
            "The actual nulls count: 0\n"
          ]
        }
      ]
    },
    {
      "cell_type": "markdown",
      "source": [
        "# Last contact info"
      ],
      "metadata": {
        "id": "iEI3Z5ruYWMa"
      }
    },
    {
      "cell_type": "markdown",
      "source": [
        "## Contact"
      ],
      "metadata": {
        "id": "XPmOSg1-X_f3"
      }
    },
    {
      "cell_type": "code",
      "source": [
        "data_inspections(\"contact\")"
      ],
      "metadata": {
        "id": "V4Os_9-CYDei",
        "outputId": "0ffd95b1-098a-4a1c-ad94-379de46ad225",
        "colab": {
          "base_uri": "https://localhost:8080/"
        }
      },
      "execution_count": 129,
      "outputs": [
        {
          "output_type": "stream",
          "name": "stdout",
          "text": [
            "\n",
            "\n",
            "Describe\n",
            " count        37069\n",
            "unique           2\n",
            "top       cellular\n",
            "freq         23515\n",
            "Name: contact, dtype: object\n",
            "\n",
            "\n",
            "Value Counts\n",
            " contact\n",
            "cellular     23515\n",
            "telephone    13554\n",
            "Name: count, dtype: int64\n",
            "\n",
            "\n",
            "The actual nulls count: 0\n"
          ]
        }
      ]
    },
    {
      "cell_type": "markdown",
      "source": [
        "## month"
      ],
      "metadata": {
        "id": "0ek9y1dpYGc4"
      }
    },
    {
      "cell_type": "code",
      "source": [
        "data_inspections(\"month\")"
      ],
      "metadata": {
        "id": "_XQdjacxYIxw",
        "outputId": "8922f509-6584-4f1e-84f0-69336935a4f7",
        "colab": {
          "base_uri": "https://localhost:8080/"
        }
      },
      "execution_count": 130,
      "outputs": [
        {
          "output_type": "stream",
          "name": "stdout",
          "text": [
            "\n",
            "\n",
            "Describe\n",
            " count     37069\n",
            "unique       10\n",
            "top         may\n",
            "freq      12370\n",
            "Name: month, dtype: object\n",
            "\n",
            "\n",
            "Value Counts\n",
            " month\n",
            "may    12370\n",
            "jul     6445\n",
            "aug     5555\n",
            "jun     4817\n",
            "nov     3698\n",
            "apr     2369\n",
            "oct      653\n",
            "sep      508\n",
            "mar      496\n",
            "dec      158\n",
            "Name: count, dtype: int64\n",
            "\n",
            "\n",
            "The actual nulls count: 0\n"
          ]
        }
      ]
    },
    {
      "cell_type": "markdown",
      "source": [
        "## Day of the week"
      ],
      "metadata": {
        "id": "D3qwv-qJYfID"
      }
    },
    {
      "cell_type": "code",
      "source": [
        "data_inspections('day_of_week')"
      ],
      "metadata": {
        "id": "Vk7F7leiYiJD",
        "outputId": "71758ee5-8cfc-4076-d6b7-78e2067fa78c",
        "colab": {
          "base_uri": "https://localhost:8080/"
        }
      },
      "execution_count": 131,
      "outputs": [
        {
          "output_type": "stream",
          "name": "stdout",
          "text": [
            "\n",
            "\n",
            "Describe\n",
            " count     37069\n",
            "unique        5\n",
            "top         thu\n",
            "freq       7742\n",
            "Name: day_of_week, dtype: object\n",
            "\n",
            "\n",
            "Value Counts\n",
            " day_of_week\n",
            "thu    7742\n",
            "mon    7657\n",
            "wed    7347\n",
            "tue    7287\n",
            "fri    7036\n",
            "Name: count, dtype: int64\n",
            "\n",
            "\n",
            "The actual nulls count: 0\n"
          ]
        }
      ]
    },
    {
      "cell_type": "markdown",
      "source": [
        "# Other Attributes"
      ],
      "metadata": {
        "id": "gjex2BzRYpk7"
      }
    },
    {
      "cell_type": "markdown",
      "source": [
        "## Campaign\n",
        "The column"
      ],
      "metadata": {
        "id": "dxeuRnnHWtHg"
      }
    },
    {
      "cell_type": "code",
      "metadata": {
        "id": "RnGBwGVZPyyh",
        "colab": {
          "base_uri": "https://localhost:8080/"
        },
        "outputId": "013110cd-3fbe-466c-d31d-6b4a11479e27"
      },
      "source": [
        "data_inspections('campaign')"
      ],
      "execution_count": 132,
      "outputs": [
        {
          "output_type": "stream",
          "name": "stdout",
          "text": [
            "\n",
            "\n",
            "Describe\n",
            " count    37069.000000\n",
            "mean         2.564407\n",
            "std          2.764084\n",
            "min          1.000000\n",
            "25%          1.000000\n",
            "50%          2.000000\n",
            "75%          3.000000\n",
            "max         56.000000\n",
            "Name: campaign, dtype: float64\n",
            "\n",
            "\n",
            "Value Counts\n",
            " campaign\n",
            "1     15874\n",
            "2      9554\n",
            "3      4804\n",
            "4      2378\n",
            "5      1432\n",
            "6       855\n",
            "7       559\n",
            "8       363\n",
            "9       265\n",
            "10      207\n",
            "11      164\n",
            "12      112\n",
            "13       81\n",
            "14       55\n",
            "17       50\n",
            "15       47\n",
            "16       44\n",
            "18       30\n",
            "20       29\n",
            "19       26\n",
            "21       21\n",
            "22       17\n",
            "23       13\n",
            "24       13\n",
            "27       10\n",
            "29       10\n",
            "25        7\n",
            "31        7\n",
            "30        7\n",
            "28        7\n",
            "26        6\n",
            "35        5\n",
            "33        4\n",
            "32        3\n",
            "40        2\n",
            "34        2\n",
            "42        2\n",
            "39        1\n",
            "56        1\n",
            "41        1\n",
            "37        1\n",
            "Name: count, dtype: int64\n",
            "\n",
            "\n",
            "The actual nulls count: 0\n"
          ]
        }
      ]
    },
    {
      "cell_type": "markdown",
      "source": [
        "## pdays"
      ],
      "metadata": {
        "id": "ZZ1nZd1pbral"
      }
    },
    {
      "cell_type": "code",
      "source": [
        "data_inspections('pdays')"
      ],
      "metadata": {
        "id": "XDuvqhKNbup1",
        "outputId": "ab828b3b-501d-4489-91e0-b83d7fcd41a3",
        "colab": {
          "base_uri": "https://localhost:8080/"
        }
      },
      "execution_count": 133,
      "outputs": [
        {
          "output_type": "stream",
          "name": "stdout",
          "text": [
            "\n",
            "\n",
            "Describe\n",
            " count    37069.000000\n",
            "mean       962.221803\n",
            "std        187.531477\n",
            "min          0.000000\n",
            "25%        999.000000\n",
            "50%        999.000000\n",
            "75%        999.000000\n",
            "max        999.000000\n",
            "Name: pdays, dtype: float64\n",
            "\n",
            "\n",
            "Value Counts\n",
            " pdays\n",
            "999    35696\n",
            "3        396\n",
            "6        371\n",
            "4        107\n",
            "7         56\n",
            "9         56\n",
            "12        55\n",
            "2         54\n",
            "10        50\n",
            "5         42\n",
            "13        32\n",
            "11        26\n",
            "1         23\n",
            "15        22\n",
            "14        18\n",
            "8         16\n",
            "0         14\n",
            "16        10\n",
            "17         8\n",
            "18         6\n",
            "19         3\n",
            "21         2\n",
            "22         2\n",
            "26         1\n",
            "25         1\n",
            "27         1\n",
            "20         1\n",
            "Name: count, dtype: int64\n",
            "\n",
            "\n",
            "The actual nulls count: 0\n"
          ]
        }
      ]
    },
    {
      "cell_type": "markdown",
      "source": [
        "## previous"
      ],
      "metadata": {
        "id": "E-sL5BAVcEsv"
      }
    },
    {
      "cell_type": "code",
      "source": [
        "data_inspections('previous')"
      ],
      "metadata": {
        "id": "flDabcCJcF4n",
        "outputId": "13471783-cccf-4872-beb1-5c72fa8acbc2",
        "colab": {
          "base_uri": "https://localhost:8080/"
        }
      },
      "execution_count": 134,
      "outputs": [
        {
          "output_type": "stream",
          "name": "stdout",
          "text": [
            "\n",
            "\n",
            "Describe\n",
            " count    37069.000000\n",
            "mean         0.173730\n",
            "std          0.496159\n",
            "min          0.000000\n",
            "25%          0.000000\n",
            "50%          0.000000\n",
            "75%          0.000000\n",
            "max          7.000000\n",
            "Name: previous, dtype: float64\n",
            "\n",
            "\n",
            "Value Counts\n",
            " previous\n",
            "0    31988\n",
            "1     4116\n",
            "2      684\n",
            "3      196\n",
            "4       64\n",
            "5       15\n",
            "6        5\n",
            "7        1\n",
            "Name: count, dtype: int64\n",
            "\n",
            "\n",
            "The actual nulls count: 0\n"
          ]
        }
      ]
    },
    {
      "cell_type": "markdown",
      "source": [
        "## poutcome\n",
        "poutcome - nonexisten is > 60%\n",
        "\n",
        "We can see that 31988 entries are nonexistent"
      ],
      "metadata": {
        "id": "hut8OTdqUqf9"
      }
    },
    {
      "cell_type": "code",
      "metadata": {
        "id": "StiU5QcPPxqQ",
        "colab": {
          "base_uri": "https://localhost:8080/"
        },
        "outputId": "4f9ad5ce-d17f-4f59-c723-febf5e76acb8"
      },
      "source": [
        "data_inspections('poutcome')"
      ],
      "execution_count": 135,
      "outputs": [
        {
          "output_type": "stream",
          "name": "stdout",
          "text": [
            "\n",
            "\n",
            "Describe\n",
            " count           37069\n",
            "unique              3\n",
            "top       nonexistent\n",
            "freq            31988\n",
            "Name: poutcome, dtype: object\n",
            "\n",
            "\n",
            "Value Counts\n",
            " poutcome\n",
            "nonexistent    31988\n",
            "failure         3843\n",
            "success         1238\n",
            "Name: count, dtype: int64\n",
            "\n",
            "\n",
            "nonexistent percent\n",
            "86.29312902964742\n",
            "\n",
            "\n",
            "The actual nulls count: 0\n"
          ]
        }
      ]
    },
    {
      "cell_type": "markdown",
      "source": [
        "# Social and Economic Context Attribs"
      ],
      "metadata": {
        "id": "lj7ADwPaYzg9"
      }
    },
    {
      "cell_type": "markdown",
      "source": [
        "## emp.var.rate"
      ],
      "metadata": {
        "id": "jnaeWonXY33E"
      }
    },
    {
      "cell_type": "code",
      "source": [
        "data_inspections(\"emp.var.rate\")"
      ],
      "metadata": {
        "id": "Tuh6XqX5Y8W1",
        "outputId": "3e889880-14c0-44d4-c0d1-37c47db5fd28",
        "colab": {
          "base_uri": "https://localhost:8080/"
        }
      },
      "execution_count": 136,
      "outputs": [
        {
          "output_type": "stream",
          "name": "stdout",
          "text": [
            "\n",
            "\n",
            "Describe\n",
            " count    37069.000000\n",
            "mean         0.081526\n",
            "std          1.572287\n",
            "min         -3.400000\n",
            "25%         -1.800000\n",
            "50%          1.100000\n",
            "75%          1.400000\n",
            "max          1.400000\n",
            "Name: emp.var.rate, dtype: float64\n",
            "\n",
            "\n",
            "Value Counts\n",
            " emp.var.rate\n",
            " 1.4    14605\n",
            "-1.8     8234\n",
            " 1.1     7001\n",
            "-0.1     3314\n",
            "-2.9     1520\n",
            "-3.4      973\n",
            "-1.7      692\n",
            "-1.1      572\n",
            "-3.0      150\n",
            "-0.2        8\n",
            "Name: count, dtype: int64\n",
            "\n",
            "\n",
            "The actual nulls count: 0\n"
          ]
        }
      ]
    },
    {
      "cell_type": "markdown",
      "source": [
        "## cons.price.idx"
      ],
      "metadata": {
        "id": "H7xW7lA0ZAbd"
      }
    },
    {
      "cell_type": "code",
      "source": [
        "data_inspections(\"cons.price.idx\")"
      ],
      "metadata": {
        "id": "oJre5onaZGE-",
        "outputId": "162f891b-4b62-454d-f37e-b5ba475e0711",
        "colab": {
          "base_uri": "https://localhost:8080/"
        }
      },
      "execution_count": 137,
      "outputs": [
        {
          "output_type": "stream",
          "name": "stdout",
          "text": [
            "\n",
            "\n",
            "Describe\n",
            " count    37069.000000\n",
            "mean        93.576551\n",
            "std          0.579339\n",
            "min         92.201000\n",
            "25%         93.075000\n",
            "50%         93.749000\n",
            "75%         93.994000\n",
            "max         94.767000\n",
            "Name: cons.price.idx, dtype: float64\n",
            "\n",
            "\n",
            "Value Counts\n",
            " cons.price.idx\n",
            "93.994    7001\n",
            "93.918    6000\n",
            "92.893    5171\n",
            "93.444    4647\n",
            "94.465    3958\n",
            "93.200    3250\n",
            "93.075    2213\n",
            "92.201     696\n",
            "92.963     661\n",
            "92.431     400\n",
            "92.649     332\n",
            "94.215     282\n",
            "94.199     267\n",
            "92.843     256\n",
            "92.379     241\n",
            "93.369     240\n",
            "94.027     212\n",
            "93.876     198\n",
            "94.055     198\n",
            "94.601     189\n",
            "92.469     163\n",
            "93.749     156\n",
            "92.713     150\n",
            "94.767     116\n",
            "93.798      64\n",
            "92.756       8\n",
            "Name: count, dtype: int64\n",
            "\n",
            "\n",
            "The actual nulls count: 0\n"
          ]
        }
      ]
    },
    {
      "cell_type": "markdown",
      "source": [
        "## cons.conf.idx"
      ],
      "metadata": {
        "id": "cl1PkApuZJyO"
      }
    },
    {
      "cell_type": "code",
      "source": [
        "data_inspections(\"cons.conf.idx\")"
      ],
      "metadata": {
        "id": "pV0SkyS1ZOJW",
        "outputId": "e56aa84e-3bba-4d73-a538-b381bd9d6539",
        "colab": {
          "base_uri": "https://localhost:8080/"
        }
      },
      "execution_count": 138,
      "outputs": [
        {
          "output_type": "stream",
          "name": "stdout",
          "text": [
            "\n",
            "\n",
            "Describe\n",
            " count    37069.000000\n",
            "mean       -40.494829\n",
            "std          4.628895\n",
            "min        -50.800000\n",
            "25%        -42.700000\n",
            "50%        -41.800000\n",
            "75%        -36.400000\n",
            "max        -26.900000\n",
            "Name: cons.conf.idx, dtype: float64\n",
            "\n",
            "\n",
            "Value Counts\n",
            " cons.conf.idx\n",
            "-36.4    7001\n",
            "-42.7    6000\n",
            "-46.2    5171\n",
            "-36.1    4647\n",
            "-41.8    3958\n",
            "-42.0    3250\n",
            "-47.1    2213\n",
            "-31.4     696\n",
            "-40.8     661\n",
            "-26.9     400\n",
            "-30.1     332\n",
            "-40.3     282\n",
            "-37.5     267\n",
            "-50.0     256\n",
            "-29.8     241\n",
            "-34.8     240\n",
            "-38.3     212\n",
            "-40.0     198\n",
            "-39.8     198\n",
            "-49.5     189\n",
            "-33.6     163\n",
            "-34.6     156\n",
            "-33.0     150\n",
            "-50.8     116\n",
            "-40.4      64\n",
            "-45.9       8\n",
            "Name: count, dtype: int64\n",
            "\n",
            "\n",
            "The actual nulls count: 0\n"
          ]
        }
      ]
    },
    {
      "cell_type": "markdown",
      "source": [
        "## euribor3m"
      ],
      "metadata": {
        "id": "WF1MiaHvZT1A"
      }
    },
    {
      "cell_type": "code",
      "source": [
        "data_inspections(\"euribor3m\")"
      ],
      "metadata": {
        "id": "z2PU-akfZV32",
        "outputId": "7c01531a-1855-45f9-d71e-32fe52db4dc0",
        "colab": {
          "base_uri": "https://localhost:8080/"
        }
      },
      "execution_count": 139,
      "outputs": [
        {
          "output_type": "stream",
          "name": "stdout",
          "text": [
            "\n",
            "\n",
            "Describe\n",
            " count    37069.000000\n",
            "mean         3.621945\n",
            "std          1.734496\n",
            "min          0.634000\n",
            "25%          1.344000\n",
            "50%          4.857000\n",
            "75%          4.961000\n",
            "max          5.045000\n",
            "Name: euribor3m, dtype: float64\n",
            "\n",
            "\n",
            "Value Counts\n",
            " euribor3m\n",
            "4.857    2578\n",
            "4.962    2346\n",
            "4.963    2222\n",
            "4.961    1728\n",
            "4.856    1103\n",
            "         ... \n",
            "3.488       1\n",
            "3.743       1\n",
            "3.816       1\n",
            "0.956       1\n",
            "0.953       1\n",
            "Name: count, Length: 314, dtype: int64\n",
            "\n",
            "\n",
            "The actual nulls count: 0\n"
          ]
        }
      ]
    },
    {
      "cell_type": "markdown",
      "source": [
        "## nr.employed"
      ],
      "metadata": {
        "id": "eN04xp-9Zhzx"
      }
    },
    {
      "cell_type": "code",
      "source": [
        "data_inspections('nr.employed')"
      ],
      "metadata": {
        "id": "IFbvJXkKZk_S",
        "outputId": "c7fdfc4c-6238-4b44-bca5-f2ec05478446",
        "colab": {
          "base_uri": "https://localhost:8080/"
        }
      },
      "execution_count": 140,
      "outputs": [
        {
          "output_type": "stream",
          "name": "stdout",
          "text": [
            "\n",
            "\n",
            "Describe\n",
            " count    37069.000000\n",
            "mean      5167.010650\n",
            "std         72.294476\n",
            "min       4963.600000\n",
            "25%       5099.100000\n",
            "50%       5191.000000\n",
            "75%       5228.100000\n",
            "max       5228.100000\n",
            "Name: nr.employed, dtype: float64\n",
            "\n",
            "\n",
            "Value Counts\n",
            " nr.employed\n",
            "5228.1    14605\n",
            "5099.1     7640\n",
            "5191.0     7001\n",
            "5195.8     3314\n",
            "5076.2     1520\n",
            "5017.5      973\n",
            "4991.6      692\n",
            "5008.7      594\n",
            "4963.6      572\n",
            "5023.5      150\n",
            "5176.3        8\n",
            "Name: count, dtype: int64\n",
            "\n",
            "\n",
            "The actual nulls count: 0\n"
          ]
        }
      ]
    },
    {
      "cell_type": "markdown",
      "source": [
        "# Output Variable"
      ],
      "metadata": {
        "id": "JTp2h83aZoMI"
      }
    },
    {
      "cell_type": "markdown",
      "source": [
        "## \"Y\" field"
      ],
      "metadata": {
        "id": "NIDysMsPZt2h"
      }
    },
    {
      "cell_type": "code",
      "source": [
        "data_inspections('y')"
      ],
      "metadata": {
        "id": "0TY5Cjx_ZyPa",
        "outputId": "d193c7ea-b912-4fbb-8975-8285fe448762",
        "colab": {
          "base_uri": "https://localhost:8080/"
        }
      },
      "execution_count": 141,
      "outputs": [
        {
          "output_type": "stream",
          "name": "stdout",
          "text": [
            "\n",
            "\n",
            "Describe\n",
            " count     37069\n",
            "unique        2\n",
            "top          no\n",
            "freq      32861\n",
            "Name: y, dtype: object\n",
            "\n",
            "\n",
            "Value Counts\n",
            " y\n",
            "no     32861\n",
            "yes     4208\n",
            "Name: count, dtype: int64\n",
            "\n",
            "\n",
            "The actual nulls count: 0\n"
          ]
        }
      ]
    }
  ]
}